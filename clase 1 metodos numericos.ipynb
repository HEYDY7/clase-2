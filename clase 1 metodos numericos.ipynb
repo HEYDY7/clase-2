{
 "cells": [
  {
   "cell_type": "markdown",
   "metadata": {},
   "source": [
    "aqui va el texto \n",
    "$f=\\times a$\n",
    "\\end{equation}"
   ]
  },
  {
   "cell_type": "code",
   "execution_count": 4,
   "metadata": {},
   "outputs": [
    {
     "name": "stdout",
     "output_type": "stream",
     "text": [
      "hola 100 aqui estamos\n"
     ]
    }
   ],
   "source": [
    "a=10\n",
    "b=10\n",
    "c=\"aqui estamos\"\n",
    "print(\"hola\",a*b,c)"
   ]
  },
  {
   "cell_type": "code",
   "execution_count": 41,
   "metadata": {},
   "outputs": [],
   "source": [
    "from pylab import plot,show,cos\n"
   ]
  },
  {
   "cell_type": "code",
   "execution_count": 42,
   "metadata": {},
   "outputs": [],
   "source": [
    "p2=[]\n",
    "freal=[]\n",
    "x=[]\n",
    "\n",
    "for i in range(22):\n",
    "    tmp=i*0.1\n",
    "    x.append(tmp)\n",
    "    p2.append(1-0.5*tmp*tmp)\n",
    "    freal.append(cos(tmp))\n",
    "    \n",
    "    \n",
    "    \n",
    "    \n",
    "  "
   ]
  },
  {
   "cell_type": "code",
   "execution_count": 45,
   "metadata": {},
   "outputs": [
    {
     "data": {
      "image/png": "[encoded data removed]",
      "text/plain": [
       "<Figure size 432x288 with 1 Axes>"
      ]
     },
     "metadata": {
      "needs_background": "light"
     },
     "output_type": "display_data"
    }
   ],
   "source": [
    "plot(x,freal,'g')\n",
    "plot(x,p2,'ok')\n",
    "show()"
   ]
  },
  {
   "cell_type": "code",
   "execution_count": 26,
   "metadata": {},
   "outputs": [
    {
     "name": "stdout",
     "output_type": "stream",
     "text": [
      "p2: 0.99995\n",
      "r2. 1.6666666666666668e-07\n"
     ]
    }
   ],
   "source": [
    "x=0.01\n",
    "print(\"p2:\",1-0.5*x*x)\n",
    "print(\"r2.\",1/6*x*x*x)"
   ]
  },
  {
   "cell_type": "code",
   "execution_count": null,
   "metadata": {},
   "outputs": [],
   "source": []
  }
 ],
 "metadata": {
  "kernelspec": {
   "display_name": "Python 3",
   "language": "python",
   "name": "python3"
  },
  "language_info": {
   "codemirror_mode": {
    "name": "ipython",
    "version": 3
   },
   "file_extension": ".py",
   "mimetype": "text/x-python",
   "name": "python",
   "nbconvert_exporter": "python",
   "pygments_lexer": "ipython3",
   "version": "3.7.3"
  }
 },
 "nbformat": 4,
 "nbformat_minor": 2
}
